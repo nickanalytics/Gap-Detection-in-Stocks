{
 "cells": [
  {
   "cell_type": "markdown",
   "metadata": {},
   "source": [
    "running on streamlit"
   ]
  },
  {
   "cell_type": "markdown",
   "metadata": {},
   "source": [
    "### Imports"
   ]
  },
  {
   "cell_type": "code",
   "execution_count": 1,
   "metadata": {},
   "outputs": [],
   "source": [
    "import streamlit as st\n",
    "import yfinance as yf\n",
    "import pandas as pd\n",
    "import datetime as dt\n",
    "import finnhub\n",
    "from datetime import datetime\n",
    "import time\n",
    "import requests\n",
    "from io import StringIO\n",
    "from dotenv import load_dotenv\n",
    "import os\n",
    "import plotly.graph_objects as go\n",
    "import seaborn as sns\n",
    "import matplotlib.pyplot as plt"
   ]
  },
  {
   "cell_type": "code",
   "execution_count": 2,
   "metadata": {},
   "outputs": [],
   "source": [
    "import warnings\n",
    "warnings.filterwarnings('ignore')"
   ]
  },
  {
   "cell_type": "markdown",
   "metadata": {},
   "source": [
    "### Set Symbol"
   ]
  },
  {
   "cell_type": "code",
   "execution_count": 17,
   "metadata": {},
   "outputs": [],
   "source": [
    "# SBMO.AS ASML.AS BESI.AS ADYEN.AS NN.AS [MSFT MCD] NKE DIS  EURUSD=X GC=F\n",
    "symbol = 'NN.AS'"
   ]
  },
  {
   "cell_type": "markdown",
   "metadata": {},
   "source": [
    "### Option 1: Download the ticker data (via Yfinance)"
   ]
  },
  {
   "cell_type": "code",
   "execution_count": 18,
   "metadata": {},
   "outputs": [
    {
     "data": {
      "text/html": [
       "<div>\n",
       "<style scoped>\n",
       "    .dataframe tbody tr th:only-of-type {\n",
       "        vertical-align: middle;\n",
       "    }\n",
       "\n",
       "    .dataframe tbody tr th {\n",
       "        vertical-align: top;\n",
       "    }\n",
       "\n",
       "    .dataframe thead th {\n",
       "        text-align: right;\n",
       "    }\n",
       "</style>\n",
       "<table border=\"1\" class=\"dataframe\">\n",
       "  <thead>\n",
       "    <tr style=\"text-align: right;\">\n",
       "      <th></th>\n",
       "      <th>date</th>\n",
       "      <th>open</th>\n",
       "      <th>high</th>\n",
       "      <th>low</th>\n",
       "      <th>close</th>\n",
       "      <th>adj close</th>\n",
       "      <th>volume</th>\n",
       "      <th>dividends</th>\n",
       "      <th>stock splits</th>\n",
       "    </tr>\n",
       "  </thead>\n",
       "  <tbody>\n",
       "    <tr>\n",
       "      <th>595</th>\n",
       "      <td>2024-04-30</td>\n",
       "      <td>43.820000</td>\n",
       "      <td>43.880001</td>\n",
       "      <td>43.099998</td>\n",
       "      <td>43.349998</td>\n",
       "      <td>43.349998</td>\n",
       "      <td>865746</td>\n",
       "      <td>0.0</td>\n",
       "      <td>0.0</td>\n",
       "    </tr>\n",
       "    <tr>\n",
       "      <th>596</th>\n",
       "      <td>2024-05-02</td>\n",
       "      <td>43.599998</td>\n",
       "      <td>43.669998</td>\n",
       "      <td>43.029999</td>\n",
       "      <td>43.119999</td>\n",
       "      <td>43.119999</td>\n",
       "      <td>679336</td>\n",
       "      <td>0.0</td>\n",
       "      <td>0.0</td>\n",
       "    </tr>\n",
       "    <tr>\n",
       "      <th>597</th>\n",
       "      <td>2024-05-03</td>\n",
       "      <td>43.279999</td>\n",
       "      <td>43.570000</td>\n",
       "      <td>42.959999</td>\n",
       "      <td>43.150002</td>\n",
       "      <td>43.150002</td>\n",
       "      <td>618029</td>\n",
       "      <td>0.0</td>\n",
       "      <td>0.0</td>\n",
       "    </tr>\n",
       "    <tr>\n",
       "      <th>598</th>\n",
       "      <td>2024-05-06</td>\n",
       "      <td>43.349998</td>\n",
       "      <td>44.290001</td>\n",
       "      <td>43.320000</td>\n",
       "      <td>44.000000</td>\n",
       "      <td>44.000000</td>\n",
       "      <td>740957</td>\n",
       "      <td>0.0</td>\n",
       "      <td>0.0</td>\n",
       "    </tr>\n",
       "    <tr>\n",
       "      <th>599</th>\n",
       "      <td>2024-05-07</td>\n",
       "      <td>44.099998</td>\n",
       "      <td>45.070000</td>\n",
       "      <td>44.099998</td>\n",
       "      <td>45.000000</td>\n",
       "      <td>45.000000</td>\n",
       "      <td>882848</td>\n",
       "      <td>0.0</td>\n",
       "      <td>0.0</td>\n",
       "    </tr>\n",
       "  </tbody>\n",
       "</table>\n",
       "</div>"
      ],
      "text/plain": [
       "          date       open       high        low      close  adj close  volume  \\\n",
       "595 2024-04-30  43.820000  43.880001  43.099998  43.349998  43.349998  865746   \n",
       "596 2024-05-02  43.599998  43.669998  43.029999  43.119999  43.119999  679336   \n",
       "597 2024-05-03  43.279999  43.570000  42.959999  43.150002  43.150002  618029   \n",
       "598 2024-05-06  43.349998  44.290001  43.320000  44.000000  44.000000  740957   \n",
       "599 2024-05-07  44.099998  45.070000  44.099998  45.000000  45.000000  882848   \n",
       "\n",
       "     dividends  stock splits  \n",
       "595        0.0           0.0  \n",
       "596        0.0           0.0  \n",
       "597        0.0           0.0  \n",
       "598        0.0           0.0  \n",
       "599        0.0           0.0  "
      ]
     },
     "execution_count": 18,
     "metadata": {},
     "output_type": "execute_result"
    }
   ],
   "source": [
    "# https://finance.yahoo.com/quote/NN.AS/history?p=NN.AS\n",
    "\n",
    "# get today's date as a string in the required format\n",
    "today = dt.datetime.today().strftime('%Y-%m-%d')\n",
    "\n",
    "# Get data on this ticker\n",
    "tickerData = yf.Ticker(symbol)\n",
    "\n",
    "# get the required stock price history\n",
    "df = tickerData.history(period='1d', start='2022-01-01', end=today,auto_adjust = False)\n",
    "\n",
    "df = df.reset_index()\n",
    "\n",
    "# convert the 'date' column to a datetime type\n",
    "# df['Date'] = pd.to_datetime(df['Date'], format='%Y-%m-%d')\n",
    "df['Date'] = pd.to_datetime(df['Date']).dt.tz_localize(None)\n",
    "# df['Date'] = pd.to_datetime(df['Date'])\n",
    "\n",
    "df.columns = df.columns.str.lower()\n",
    "df = df.sort_values(by='date',ascending=True)\n",
    "\n",
    "# extract only the date part\n",
    "# df['Date'] = df['Date'].dt.strftime('%Y-%m-%d')\n",
    "\n",
    "# Print the DataFrame\n",
    "df.tail()"
   ]
  },
  {
   "cell_type": "markdown",
   "metadata": {},
   "source": [
    "### Option 2: Download the ticker data via FinnHub (not working)"
   ]
  },
  {
   "cell_type": "code",
   "execution_count": 16,
   "metadata": {},
   "outputs": [],
   "source": [
    "# https://analyzingalpha.com/finnhub-api-python-tutorial#:~:text=To%20call%20Finnhub%20API%20via,call%20Finnhub%20REST%20API%20functions.\n",
    "# Stocks: MCD, MSFT, EURUSD=X\n",
    "\n",
    "# *********** DO NOT USE ***********\n",
    "\n",
    "# api_key = 'comhjphr01qp4op2kj1gcomhjphr01qp4op2kj20'\n",
    "# api_key='colr6i9r01qqra7g7ongcolr6i9r01qqra7g7oo0'\n",
    "api_key = 'chstmqpr01qr5oci5ujgchstmqpr01qr5oci5uk0'\n",
    "finnhub_client = finnhub.Client(api_key=api_key)"
   ]
  },
  {
   "cell_type": "code",
   "execution_count": 17,
   "metadata": {},
   "outputs": [],
   "source": [
    "symbol = symbol\n",
    "interval = 'D'  # for daily stock candle values\n",
    "start_date = '2023-10-01'  # 1609455600\n",
    "end_date = '2024-04-10'  # 1612047600\n",
    "today = datetime.today().strftime('%Y-%m-%d')\n",
    "\n",
    "# Convert the date string to a datetime object\n",
    "start_datetime = datetime.strptime(start_date, '%Y-%m-%d')\n",
    "end_datetime = datetime.strptime(end_date, '%Y-%m-%d')\n",
    "today_datetime = datetime.strptime(today, '%Y-%m-%d')\n",
    "\n",
    "# Convert the datetime object to a Unix timestamp (seconds since epoch)\n",
    "unix_start = int(time.mktime(start_datetime.timetuple()))\n",
    "unix_end = int(time.mktime(end_datetime.timetuple()))\n",
    "unix_today = int(time.mktime(today_datetime.timetuple()))"
   ]
  },
  {
   "cell_type": "code",
   "execution_count": null,
   "metadata": {},
   "outputs": [],
   "source": [
    "response = finnhub_client.stock_candles(symbol,\n",
    "                                        'D',  # Supported interval values are 1, 5, 15, 30, 60, D, W, M.\n",
    "                                        unix_start,\n",
    "                                        unix_end)  # Changed to unix_end (was unix_today)\n",
    "df = pd.DataFrame(response)\n",
    "\n",
    "# Convert Unix timestamp back to Date format\n",
    "df['date'] = pd.to_datetime(df['t'], unit='s')\n",
    "# Rearrange the columns\n",
    "column_names = {'date': 'date', 'o': 'open', 'h': 'high', 'l': 'low', 'c': 'close', 'v': 'volume'}\n",
    "df = df.rename(columns=column_names)\n",
    "\n",
    "columns = ['date', 'open', 'high', 'low', 'close', 'volume']\n",
    "df = df[columns]\n",
    "df.head()"
   ]
  },
  {
   "cell_type": "markdown",
   "metadata": {},
   "source": [
    "### Option 3: Download via Alpha Vantage! \n",
    "\n",
    "https://www.alphavantage.co/support/#api-key"
   ]
  },
  {
   "cell_type": "code",
   "execution_count": 122,
   "metadata": {},
   "outputs": [
    {
     "data": {
      "text/html": [
       "<div>\n",
       "<style scoped>\n",
       "    .dataframe tbody tr th:only-of-type {\n",
       "        vertical-align: middle;\n",
       "    }\n",
       "\n",
       "    .dataframe tbody tr th {\n",
       "        vertical-align: top;\n",
       "    }\n",
       "\n",
       "    .dataframe thead th {\n",
       "        text-align: right;\n",
       "    }\n",
       "</style>\n",
       "<table border=\"1\" class=\"dataframe\">\n",
       "  <thead>\n",
       "    <tr style=\"text-align: right;\">\n",
       "      <th></th>\n",
       "      <th>date</th>\n",
       "      <th>open</th>\n",
       "      <th>high</th>\n",
       "      <th>low</th>\n",
       "      <th>close</th>\n",
       "      <th>volume</th>\n",
       "    </tr>\n",
       "  </thead>\n",
       "  <tbody>\n",
       "    <tr>\n",
       "      <th>6165</th>\n",
       "      <td>1999-11-01</td>\n",
       "      <td>25.31</td>\n",
       "      <td>26.06</td>\n",
       "      <td>24.94</td>\n",
       "      <td>25.69</td>\n",
       "      <td>7585800</td>\n",
       "    </tr>\n",
       "    <tr>\n",
       "      <th>6164</th>\n",
       "      <td>1999-11-02</td>\n",
       "      <td>25.56</td>\n",
       "      <td>26.31</td>\n",
       "      <td>25.50</td>\n",
       "      <td>26.25</td>\n",
       "      <td>6240800</td>\n",
       "    </tr>\n",
       "    <tr>\n",
       "      <th>6163</th>\n",
       "      <td>1999-11-03</td>\n",
       "      <td>27.38</td>\n",
       "      <td>27.38</td>\n",
       "      <td>26.69</td>\n",
       "      <td>26.88</td>\n",
       "      <td>8196800</td>\n",
       "    </tr>\n",
       "    <tr>\n",
       "      <th>6162</th>\n",
       "      <td>1999-11-04</td>\n",
       "      <td>27.75</td>\n",
       "      <td>29.00</td>\n",
       "      <td>26.00</td>\n",
       "      <td>26.50</td>\n",
       "      <td>13492400</td>\n",
       "    </tr>\n",
       "    <tr>\n",
       "      <th>6161</th>\n",
       "      <td>1999-11-05</td>\n",
       "      <td>25.50</td>\n",
       "      <td>25.50</td>\n",
       "      <td>24.06</td>\n",
       "      <td>24.31</td>\n",
       "      <td>26165000</td>\n",
       "    </tr>\n",
       "  </tbody>\n",
       "</table>\n",
       "</div>"
      ],
      "text/plain": [
       "           date   open   high    low  close    volume\n",
       "6165 1999-11-01  25.31  26.06  24.94  25.69   7585800\n",
       "6164 1999-11-02  25.56  26.31  25.50  26.25   6240800\n",
       "6163 1999-11-03  27.38  27.38  26.69  26.88   8196800\n",
       "6162 1999-11-04  27.75  29.00  26.00  26.50  13492400\n",
       "6161 1999-11-05  25.50  25.50  24.06  24.31  26165000"
      ]
     },
     "execution_count": 122,
     "metadata": {},
     "output_type": "execute_result"
    }
   ],
   "source": [
    "# Example link: url = 'https://www.alphavantage.co/query?function=TIME_SERIES_DAILY&symbol=IBM&outputsize=full&apikey=XXXXX&datatype=csv'\n",
    "\n",
    "# Load environment variables\n",
    "load_dotenv()\n",
    "\n",
    "# Retrieve API key from environment\n",
    "api_key = os.getenv('API_KEY')\n",
    "\n",
    "# Function to build URL\n",
    "def build_url(function, symbol, outputsize='full'):\n",
    "    target = \"https://www.alphavantage.co/query?\"\n",
    "    params = f\"function={function}&symbol={symbol}&outputsize={outputsize}&apikey={api_key}&datatype=csv\"\n",
    "    return f\"{target}{params}\"\n",
    "\n",
    "# Example usage\n",
    "url = build_url('TIME_SERIES_DAILY', symbol)\n",
    "\n",
    "# Request data\n",
    "response = requests.get(url)\n",
    "csv_data = StringIO(response.text)\n",
    "df = pd.read_csv(csv_data)\n",
    "column_names = {'timestamp': 'date'}\n",
    "df = df.rename(columns=column_names)\n",
    "df['date'] = pd.to_datetime(df['date']).dt.tz_localize(None)\n",
    "df = df.sort_values(by='date',ascending=True)\n",
    "df.head()"
   ]
  },
  {
   "cell_type": "code",
   "execution_count": 99,
   "metadata": {},
   "outputs": [
    {
     "data": {
      "text/html": [
       "<div>\n",
       "<style scoped>\n",
       "    .dataframe tbody tr th:only-of-type {\n",
       "        vertical-align: middle;\n",
       "    }\n",
       "\n",
       "    .dataframe tbody tr th {\n",
       "        vertical-align: top;\n",
       "    }\n",
       "\n",
       "    .dataframe thead th {\n",
       "        text-align: right;\n",
       "    }\n",
       "</style>\n",
       "<table border=\"1\" class=\"dataframe\">\n",
       "  <thead>\n",
       "    <tr style=\"text-align: right;\">\n",
       "      <th></th>\n",
       "      <th>date</th>\n",
       "      <th>open</th>\n",
       "      <th>high</th>\n",
       "      <th>low</th>\n",
       "      <th>close</th>\n",
       "      <th>volume</th>\n",
       "    </tr>\n",
       "  </thead>\n",
       "  <tbody>\n",
       "    <tr>\n",
       "      <th>4</th>\n",
       "      <td>2024-04-26</td>\n",
       "      <td>14.21</td>\n",
       "      <td>14.24</td>\n",
       "      <td>14.09</td>\n",
       "      <td>14.09</td>\n",
       "      <td>402837</td>\n",
       "    </tr>\n",
       "    <tr>\n",
       "      <th>3</th>\n",
       "      <td>2024-04-29</td>\n",
       "      <td>14.11</td>\n",
       "      <td>14.37</td>\n",
       "      <td>14.10</td>\n",
       "      <td>14.32</td>\n",
       "      <td>362786</td>\n",
       "    </tr>\n",
       "    <tr>\n",
       "      <th>2</th>\n",
       "      <td>2024-04-30</td>\n",
       "      <td>14.31</td>\n",
       "      <td>14.32</td>\n",
       "      <td>13.95</td>\n",
       "      <td>13.95</td>\n",
       "      <td>413817</td>\n",
       "    </tr>\n",
       "    <tr>\n",
       "      <th>1</th>\n",
       "      <td>2024-05-02</td>\n",
       "      <td>13.93</td>\n",
       "      <td>13.93</td>\n",
       "      <td>13.69</td>\n",
       "      <td>13.73</td>\n",
       "      <td>458060</td>\n",
       "    </tr>\n",
       "    <tr>\n",
       "      <th>0</th>\n",
       "      <td>2024-05-03</td>\n",
       "      <td>13.82</td>\n",
       "      <td>14.02</td>\n",
       "      <td>13.80</td>\n",
       "      <td>13.92</td>\n",
       "      <td>568259</td>\n",
       "    </tr>\n",
       "  </tbody>\n",
       "</table>\n",
       "</div>"
      ],
      "text/plain": [
       "        date   open   high    low  close  volume\n",
       "4 2024-04-26  14.21  14.24  14.09  14.09  402837\n",
       "3 2024-04-29  14.11  14.37  14.10  14.32  362786\n",
       "2 2024-04-30  14.31  14.32  13.95  13.95  413817\n",
       "1 2024-05-02  13.93  13.93  13.69  13.73  458060\n",
       "0 2024-05-03  13.82  14.02  13.80  13.92  568259"
      ]
     },
     "execution_count": 99,
     "metadata": {},
     "output_type": "execute_result"
    }
   ],
   "source": [
    "df.tail()"
   ]
  },
  {
   "cell_type": "markdown",
   "metadata": {},
   "source": [
    "### Option 4: Download the ticker data via https://polygon.io/ (not explored)"
   ]
  },
  {
   "cell_type": "code",
   "execution_count": null,
   "metadata": {},
   "outputs": [],
   "source": []
  },
  {
   "cell_type": "markdown",
   "metadata": {},
   "source": [
    "### Create a list with all gaps (>1 day)"
   ]
  },
  {
   "cell_type": "code",
   "execution_count": 134,
   "metadata": {},
   "outputs": [
    {
     "name": "stdout",
     "output_type": "stream",
     "text": [
      "SBMO.AS\n",
      "count of all_gaps > 1 day:  38\n",
      "\n",
      "         date      gap_size       from         to gap_type\n",
      "0  2022-01-04  1.569635e-02  10.421473  10.437170       up\n",
      "1  2022-01-12  1.569409e-02  10.900172  10.915866       up\n",
      "2  2022-01-26  7.847674e-02  10.703983  10.782460       up\n",
      "3  2022-02-10  5.885688e-02  11.374946  11.316089     down\n",
      "4  2022-02-24  4.316110e-02  10.558805  10.515644     down\n",
      "5  2022-03-17  7.846626e-03  10.853087  10.860934       up\n",
      "6  2022-04-05  5.100894e-02  11.512276  11.563285       up\n",
      "7  2022-04-25  1.002221e-01  11.709314  11.609092     down\n",
      "8  2022-05-04  2.505714e-02  11.746896  11.771953       up\n",
      "9  2022-06-10  7.099106e-02  12.323176  12.252185     down\n",
      "10 2022-06-13  1.336290e-01  11.980749  11.847120     down\n",
      "11 2022-08-04  5.011071e-02  11.458758  11.508869       up\n",
      "12 2022-09-26  2.105555e-07  10.828193  10.828193     down\n",
      "13 2022-10-04  8.352411e-03  11.120506  11.128859       up\n",
      "14 2022-11-01  4.175939e-02  11.525573  11.567332       up\n",
      "15 2022-12-27  2.505482e-02  12.502741  12.527796       up\n",
      "16 2023-02-03  1.252786e-02  11.809536  11.797008     down\n",
      "17 2023-02-16  6.263705e-02  12.360760  12.423397       up\n",
      "18 2023-03-24  2.505570e-02  10.815664  10.790608     down\n",
      "19 2023-03-28  3.758258e-02  10.861600  10.899183       up\n",
      "20 2023-03-29  9.604669e-02  11.066220  11.162267       up\n",
      "21 2023-05-11  4.498177e-02  12.001246  11.956264     down\n",
      "22 2023-05-31  1.799344e-02  11.668378  11.650384     down\n",
      "23 2023-06-02  6.297649e-02  11.605402  11.668378       up\n",
      "24 2023-06-06  3.598626e-02  11.884292  11.848306     down\n",
      "25 2023-08-10  4.318289e-01  12.217160  11.785331     down\n",
      "26 2023-10-03  4.498156e-02  10.930670  10.885688     down\n",
      "27 2023-10-23  5.397916e-02  10.570813  10.516833     down\n",
      "28 2023-11-09  3.598617e-02  10.705758  10.741744       up\n",
      "29 2023-11-20  4.498118e-02  10.957659  11.002641       up\n",
      "30 2023-12-14  2.698919e-02  10.705759  10.732748       up\n",
      "31 2023-12-27  1.259507e-01  11.128592  11.254542       up\n",
      "32 2024-01-10  8.996961e-03  11.263538  11.254541     down\n",
      "33 2024-01-17  8.997101e-03  11.110599  11.101602     down\n",
      "34 2024-02-22  2.698995e-02  11.335510  11.362500       up\n",
      "35 2024-03-25  2.698927e-02  12.918883  12.945872       up\n",
      "36 2024-04-15  2.534062e-01  13.395694  13.649100       up\n",
      "37 2024-05-02  1.999950e-02  13.950000  13.930000     down\n"
     ]
    }
   ],
   "source": [
    "all_gaps = pd.DataFrame(columns=['date', 'gap_size', 'from', 'to', 'gap_type'])\n",
    "\n",
    "\n",
    "# Loop through the rows of the dataframe\n",
    "for i in range(1, len(df)):\n",
    "    prev_high = df.iloc[i-1]['high']\n",
    "    prev_low = df.iloc[i-1]['low']\n",
    "    curr_open = df.iloc[i]['open']\n",
    "    curr_high = df.iloc[i]['high']\n",
    "    curr_low = df.iloc[i]['low']\n",
    "    gap_size = 0\n",
    "    \n",
    "    # Check for gap up\n",
    "    if curr_low > prev_high:\n",
    "        gap_size = curr_low - prev_high\n",
    "        new_row = {'date': df.iloc[i]['date'], 'gap_size': gap_size, 'from': prev_high, 'to': curr_low, 'gap_type': 'up'}\n",
    "        all_gaps = pd.concat([all_gaps, pd.DataFrame([new_row])], ignore_index=True)\n",
    "            \n",
    "    # Check for gap down\n",
    "    elif curr_high < prev_low:\n",
    "        gap_size = prev_low - curr_high\n",
    "        new_row = {'date': df.iloc[i]['date'], 'gap_size': gap_size, 'from': prev_low, 'to': curr_high, 'gap_type': 'down'}\n",
    "        all_gaps = pd.concat([all_gaps, pd.DataFrame([new_row])], ignore_index=True)\n",
    "\n",
    "# Print the results\n",
    "print(symbol)\n",
    "print('count of all_gaps > 1 day: ', all_gaps['date'].count())\n",
    "print(\"\")\n",
    "print(all_gaps)"
   ]
  },
  {
   "cell_type": "markdown",
   "metadata": {},
   "source": [
    "### Create a list with same day gap closes"
   ]
  },
  {
   "cell_type": "code",
   "execution_count": 135,
   "metadata": {},
   "outputs": [
    {
     "name": "stdout",
     "output_type": "stream",
     "text": [
      "SBMO.AS same day gap closes:\n",
      "\n",
      "          date  gap_size\n",
      "0   2022-01-17  0.007848\n",
      "1   2022-01-21  0.027466\n",
      "2   2022-01-25  0.023544\n",
      "3   2022-02-02  0.003923\n",
      "4   2022-02-07  0.019618\n",
      "..         ...       ...\n",
      "131 2024-02-16  0.035986\n",
      "132 2024-02-23  0.000001\n",
      "133 2024-02-28  0.017993\n",
      "134 2024-02-29  0.080967\n",
      "135 2024-04-02  0.071971\n",
      "\n",
      "[136 rows x 2 columns]\n"
     ]
    }
   ],
   "source": [
    "# Initialize a list to store the data\n",
    "same_day_closes = []\n",
    "\n",
    "# Loop through the rows of the dataframe\n",
    "for i in range(1, len(df)):\n",
    "    prev_high = df.iloc[i-1]['high']\n",
    "    prev_low = df.iloc[i-1]['low']\n",
    "    curr_open = df.iloc[i]['open']\n",
    "    curr_high = df.iloc[i]['high']\n",
    "    curr_low = df.iloc[i]['low']\n",
    "    curr_close = df.iloc[i]['close']\n",
    "    \n",
    "    # Check for gap up and same day close within the previous day's high\n",
    "    if curr_open > prev_high and curr_low <= prev_high:\n",
    "        gap_size = curr_open - prev_high\n",
    "        same_day_closes.append({'date': df.iloc[i]['date'], 'gap_size': gap_size})\n",
    "        \n",
    "    # Check for gap down and same day close within the previous day's low\n",
    "    elif curr_open < prev_low and curr_high >= prev_low:\n",
    "        gap_size = prev_low - curr_open\n",
    "        same_day_closes.append({'date': df.iloc[i]['date'], 'gap_size': gap_size})\n",
    "\n",
    "# Create DataFrame from the list of data\n",
    "same_day_closes = pd.DataFrame(same_day_closes)\n",
    "\n",
    "# Print the resulting DataFrame\n",
    "\n",
    "print(symbol, 'same day gap closes:')\n",
    "print(\"\")\n",
    "print(same_day_closes)\n"
   ]
  },
  {
   "cell_type": "markdown",
   "metadata": {},
   "source": [
    "### Closed and Unclosed Gaps over time"
   ]
  },
  {
   "cell_type": "code",
   "execution_count": 125,
   "metadata": {},
   "outputs": [
    {
     "name": "stdout",
     "output_type": "stream",
     "text": [
      "DIS\n",
      "all_open_gaps:\n",
      "         date  gap_size     from      to gap_type\n",
      "0  2009-07-15     0.160   23.210   23.37       up\n",
      "1  2009-07-16     0.230   24.130   24.36       up\n",
      "2  2009-09-08     0.060   26.030   26.09       up\n",
      "3  2009-11-04     0.170   27.730   27.90       up\n",
      "4  2011-10-05     0.340   29.970   30.31       up\n",
      "5  2011-11-30     0.160   34.500   34.66       up\n",
      "6  2011-12-23     0.110   37.000   37.11       up\n",
      "7  2012-01-03     0.140   37.800   37.94       up\n",
      "8  2012-02-03     0.110   39.250   39.36       up\n",
      "9  2012-06-06     0.080   44.920   45.00       up\n",
      "10 2013-01-02     0.840   49.800   50.64       up\n",
      "11 2013-01-17     0.060   51.780   51.84       up\n",
      "12 2013-04-08     0.030   57.730   57.76       up\n",
      "13 2013-09-10     0.095   61.835   61.93       up\n",
      "14 2013-09-11     0.010   62.970   62.98       up\n",
      "15 2013-10-10     0.110   64.180   64.29       up\n",
      "16 2014-02-06     2.730   72.050   74.78       up\n",
      "17 2021-09-20     1.850  182.730  180.88     down\n",
      "18 2021-11-11     9.910  173.870  163.96     down\n",
      "19 2022-04-06     1.200  135.130  133.93     down\n",
      "20 2022-04-20     0.440  127.790  127.35     down\n",
      "21 2023-11-02     0.240   81.580   81.82       up\n",
      "22 2023-11-03     0.860   83.300   84.16       up\n",
      "23 2023-11-09     2.680   84.920   87.60       up\n",
      "24 2024-02-08     7.520   99.280  106.80       up\n",
      "\n",
      "all_closed_gaps:\n",
      "    closed_date  gap_start  gap_size  duration\n",
      "0    1999-11-04     26.310     0.380       1.0\n",
      "1    1999-11-12     26.000     0.500       7.0\n",
      "2    2000-11-17     29.880     0.120     318.0\n",
      "3    2000-02-25     32.130     1.870      46.0\n",
      "4    2000-02-22     34.000     2.500      28.0\n",
      "..          ...        ...       ...       ...\n",
      "422  2023-12-18     92.870     0.340       4.0\n",
      "423  2024-02-29    111.160     0.032       9.0\n",
      "424  2024-02-27    109.350     0.130       6.0\n",
      "425  2024-03-15    112.435     0.085       1.0\n",
      "426  2024-04-29    113.140     0.250       4.0\n",
      "\n",
      "[427 rows x 4 columns]\n"
     ]
    }
   ],
   "source": [
    "# Initialize the DataFrames\n",
    "closed_gaps = pd.DataFrame(columns=['closed_date', 'gap_start', 'gap_size', 'duration'])\n",
    "open_gaps = all_gaps.copy()\n",
    "\n",
    "# Initialize a list to collect new rows for closed_gaps\n",
    "new_rows = []\n",
    "\n",
    "# Loop through open_gaps DataFrame\n",
    "for index, gap in open_gaps.iterrows():\n",
    "    # Filter df based on gap start date and gap type\n",
    "    if gap['gap_type'] == 'up':\n",
    "        filtered_data = df[(df['date'] >= gap['date']) & (df['low'] <= gap['from'])]\n",
    "    elif gap['gap_type'] == 'down':\n",
    "        filtered_data = df[(df['date'] >= gap['date']) & (df['high'] >= gap['from'])]\n",
    "    \n",
    "    # Check if gap is closed\n",
    "    if not filtered_data.empty:\n",
    "        # Calculate duration\n",
    "        duration = (filtered_data.iloc[0]['date'] - gap['date']).days\n",
    "        # Collect the new row\n",
    "        new_rows.append({\n",
    "            'closed_date': filtered_data.iloc[0]['date'],\n",
    "            'gap_start': gap['from'],\n",
    "            'gap_size': gap['gap_size'],\n",
    "            'duration': duration\n",
    "        })\n",
    "        # Drop row from open_gaps DataFrame\n",
    "        open_gaps.drop(index, inplace=True)\n",
    "\n",
    "# Concatenate all new rows to closed_gaps DataFrame in one operation\n",
    "if new_rows:\n",
    "    closed_gaps = pd.concat([closed_gaps, pd.DataFrame(new_rows)], ignore_index=True)\n",
    "\n",
    "# Reset the index of open_gaps\n",
    "open_gaps.reset_index(drop=True, inplace=True)\n",
    "closed_gaps['duration'] = closed_gaps['duration'].astype(float)\n",
    "\n",
    "print(symbol)\n",
    "print('all_open_gaps:')\n",
    "print(open_gaps)\n",
    "print(\"\")\n",
    "print('all_closed_gaps:')\n",
    "print(closed_gaps)"
   ]
  },
  {
   "cell_type": "markdown",
   "metadata": {},
   "source": [
    "### Correlation"
   ]
  },
  {
   "cell_type": "code",
   "execution_count": 126,
   "metadata": {},
   "outputs": [
    {
     "name": "stdout",
     "output_type": "stream",
     "text": [
      "Correlation between gap_size and duration: 0.15388211782408537\n"
     ]
    }
   ],
   "source": [
    "# Calculate the correlation\n",
    "correlation = closed_gaps['gap_size'].corr(closed_gaps['duration'])\n",
    "\n",
    "# Print the correlation\n",
    "print('Correlation between gap_size and duration:', correlation)"
   ]
  },
  {
   "cell_type": "markdown",
   "metadata": {},
   "source": [
    "### Plot Gap Size vs. Duration"
   ]
  },
  {
   "cell_type": "code",
   "execution_count": 127,
   "metadata": {},
   "outputs": [
    {
     "data": {
      "application/vnd.plotly.v1+json": {
       "config": {
        "plotlyServerURL": "https://plot.ly"
       },
       "data": [
        {
         "mode": "markers",
         "type": "scatter",
         "x": [
          1,
          7,
          318,
          46,
          28,
          6,
          109,
          1,
          6,
          6,
          2,
          6,
          90,
          17,
          1,
          3438,
          3,
          9,
          16,
          3,
          8,
          15,
          2,
          1,
          1,
          4,
          1831,
          1,
          112,
          1,
          2,
          12,
          56,
          11,
          5,
          1,
          5,
          1,
          6,
          4,
          7,
          352,
          3,
          11,
          17,
          3,
          4,
          1,
          141,
          37,
          28,
          45,
          1,
          2189,
          4,
          2,
          2,
          2141,
          3,
          9,
          3,
          4,
          314,
          153,
          27,
          50,
          11,
          1,
          11,
          205,
          1,
          1,
          353,
          42,
          23,
          437,
          7,
          3,
          3,
          4,
          13,
          1,
          8,
          3,
          19,
          1,
          974,
          38,
          3,
          6,
          3,
          1,
          6,
          1,
          1,
          6,
          3,
          4,
          30,
          1,
          63,
          14,
          46,
          1,
          10,
          5,
          8,
          375,
          7,
          1,
          3,
          2,
          1,
          1,
          34,
          1,
          12,
          4,
          4,
          8,
          1,
          14,
          2,
          7,
          1,
          74,
          1,
          2,
          2,
          4,
          6,
          2,
          10,
          3,
          28,
          4,
          5,
          12,
          1,
          7,
          8,
          4,
          171,
          5,
          34,
          1,
          12,
          1,
          21,
          307,
          32,
          4,
          1,
          1,
          40,
          1,
          1,
          5,
          5,
          2,
          3,
          4,
          2,
          10,
          6,
          1,
          2,
          8,
          6,
          6,
          2,
          7,
          1,
          89,
          51,
          106,
          7,
          73,
          21,
          1,
          1,
          14,
          11,
          15,
          5,
          38,
          2,
          1,
          8,
          35,
          5,
          1,
          6,
          31,
          27,
          16,
          28,
          3,
          5,
          4,
          18,
          10,
          1,
          7,
          1,
          1,
          1,
          11,
          1,
          4,
          2,
          1979,
          1975,
          4,
          18,
          16,
          19,
          11,
          8,
          20,
          202,
          201,
          1,
          110,
          1,
          1,
          28,
          5,
          1,
          1,
          2,
          10,
          1,
          1057,
          4,
          3,
          113,
          7,
          5,
          1,
          9,
          212,
          7,
          1,
          8,
          36,
          30,
          212,
          11,
          1,
          7,
          12,
          120,
          15,
          3,
          10,
          1,
          7,
          2,
          154,
          4,
          2,
          2,
          1,
          83,
          2,
          2,
          7,
          21,
          11,
          124,
          93,
          9,
          4,
          4,
          2,
          30,
          1,
          1,
          1,
          16,
          9,
          2,
          1,
          40,
          2,
          4,
          8,
          8,
          3,
          2,
          322,
          17,
          7,
          1,
          7,
          55,
          8,
          2,
          4,
          5,
          1,
          5,
          2,
          4,
          2,
          1,
          116,
          109,
          108,
          6,
          4,
          1,
          7,
          2,
          1,
          259,
          1,
          1,
          960,
          1,
          4,
          3,
          1,
          1,
          4,
          38,
          2,
          5,
          1,
          1,
          84,
          4,
          22,
          1,
          1,
          6,
          525,
          4,
          4,
          1,
          1,
          342,
          2,
          23,
          16,
          1,
          101,
          9,
          11,
          62,
          11,
          1,
          22,
          4,
          10,
          8,
          3,
          14,
          29,
          4,
          4,
          18,
          6,
          27,
          19,
          15,
          13,
          25,
          21,
          2,
          1,
          3,
          14,
          11,
          40,
          15,
          5,
          7,
          2,
          90,
          6,
          1,
          27,
          18,
          586,
          582,
          4,
          149,
          139,
          28,
          3,
          11,
          5,
          12,
          34,
          4,
          15,
          147,
          56,
          2,
          363,
          76,
          11,
          1,
          27,
          1,
          2,
          273,
          9,
          19,
          1,
          13,
          12,
          1,
          2,
          2,
          7,
          10,
          21,
          45,
          14,
          4,
          9,
          6,
          1,
          4
         ],
         "y": [
          0.38000000000000256,
          0.5,
          0.120000000000001,
          1.8699999999999974,
          2.5,
          0.25,
          0.75,
          0.36999999999999744,
          0.25,
          0.18999999999999773,
          0.11999999999999744,
          0.44000000000000483,
          0.25,
          0.25,
          0.07000000000000028,
          3.3100000000000023,
          0.05999999999999872,
          1.3099999999999987,
          1.0700000000000038,
          0.05999999999999872,
          0.1999999999999993,
          0.00999999999999801,
          0.16000000000000014,
          0.05999999999999872,
          0.030000000000001137,
          0.8200000000000003,
          0.09000000000000341,
          0.00999999999999801,
          2.25,
          0.0799999999999983,
          0.25,
          0.00999999999999801,
          0.23000000000000043,
          0.389999999999997,
          0.019999999999999574,
          0.05999999999999872,
          0.14000000000000057,
          0.23999999999999844,
          0.25,
          0.28000000000000114,
          0.1999999999999993,
          0.07000000000000028,
          0.03999999999999915,
          0.3500000000000014,
          1.4900000000000002,
          0.08000000000000007,
          0.7399999999999984,
          0.00999999999999801,
          0.05999999999999872,
          0.5500000000000007,
          0.129999999999999,
          0.11999999999999744,
          0.03999999999999915,
          0.08000000000000007,
          0.07000000000000028,
          0.07000000000000028,
          0.10999999999999943,
          0.14000000000000057,
          0.07000000000000028,
          0.3000000000000007,
          0.2699999999999996,
          0.03999999999999915,
          0.25,
          0.13000000000000256,
          0.010000000000001563,
          2.969999999999999,
          0.03999999999999915,
          0.08000000000000185,
          0.1700000000000017,
          0.020000000000003126,
          0.23000000000000043,
          0.07000000000000028,
          0.019999999999999574,
          0.1700000000000017,
          0.07000000000000028,
          0.05999999999999872,
          0.35999999999999943,
          0.1999999999999993,
          0.029999999999997584,
          0.04999999999999716,
          0.010000000000001563,
          0.08999999999999986,
          0.06999999999999673,
          0.015000000000000568,
          0.019999999999999574,
          0.026499999999998636,
          0.14999999999999858,
          0.07000000000000028,
          0.23999999999999844,
          0.16000000000000014,
          0.13000000000000256,
          0.0400000000000027,
          0.14999999999999858,
          0.03999999999999915,
          0.010000000000005116,
          0.030000000000001137,
          0.020000000000003126,
          0.00999999999999801,
          0.11000000000000298,
          0.03999999999999915,
          0.010000000000001563,
          0.269999999999996,
          0.00999999999999801,
          0.060000000000002274,
          0.11999999999999744,
          0.019999999999999574,
          0.370000000000001,
          0.060000000000002274,
          0.41000000000000014,
          0.20000000000000284,
          0.07000000000000028,
          0.024399999999999977,
          0.10000000000000142,
          0.010000000000001563,
          0.28999999999999915,
          0.13999999999999702,
          0.3299999999999983,
          0.05000000000000071,
          0.06999999999999673,
          1.3200000000000003,
          0.10999999999999943,
          0.5,
          0.045000000000001705,
          0.5500000000000007,
          0.07000000000000028,
          0.25,
          0.05999999999999872,
          0.07000000000000028,
          0.10999999999999943,
          0.21000000000000085,
          0.13000000000000256,
          0.07000000000000028,
          0.25,
          0.10499999999999687,
          0.0799999999999983,
          0.04000000000000625,
          0.1700000000000017,
          0.1700000000000017,
          0.10999999999999943,
          0.030000000000001137,
          0.21000000000000085,
          0.3299999999999983,
          0.01999999999999602,
          0.1700000000000017,
          1.4799999999999969,
          0.10999999999999943,
          0.04999999999999716,
          0.01999999999999602,
          0.29999999999999716,
          0.5200000000000031,
          0.3300000000000054,
          0.3500000000000014,
          0.03999999999999915,
          0.15000000000000568,
          0.30000000000000426,
          0.4699999999999953,
          0.04499999999999815,
          0.19000000000000128,
          0.33999999999999986,
          0.25,
          0.17999999999999972,
          0.44000000000000483,
          0.39000000000000057,
          1.6114999999999995,
          0.17999999999999972,
          0.14000000000000057,
          0.21000000000000085,
          0.4099999999999966,
          0.37999999999999545,
          0.28059999999999974,
          0.4399999999999977,
          0.4200000000000017,
          0.14999999999999858,
          0.36999999999999744,
          0.2600000000000051,
          0.25500000000000256,
          0.269999999999996,
          0.04999999999999716,
          1.9699999999999989,
          0.07000000000000028,
          0.00999999999999801,
          0.05999999999999517,
          0.054500000000004434,
          0.15000000000000568,
          0.10000000000000142,
          0.3050000000000068,
          0.39000000000000057,
          0.03999999999999915,
          0.8149999999999977,
          0.20999999999999375,
          0.3500000000000085,
          0.20000000000000284,
          0.0049999999999954525,
          0.1699999999999875,
          0.14999999999999858,
          0.12000000000000455,
          0.010000000000005116,
          0.3500000000000085,
          0.09499999999999886,
          0.4100000000000108,
          0.04999999999999716,
          0.10999999999999943,
          0.010099999999994225,
          0.20000000000000284,
          0.060000000000002274,
          0.009999999999990905,
          0.1599999999999966,
          0.10999999999999943,
          0.26010000000000844,
          0.29110000000000014,
          0.14000000000000057,
          0.21000000000000796,
          0.6400000000000006,
          0.20999999999999375,
          1.1300000000000097,
          0.04999999999999716,
          0.1799999999999926,
          0.01999999999999602,
          0.04000000000000625,
          0.40500000000000114,
          0.14000000000000057,
          4.709999999999994,
          0.030000000000001137,
          6.659999999999997,
          0.18019999999999925,
          0.5100000000000051,
          0.7700999999999993,
          0.29000000000000625,
          0.6950000000000074,
          0.04999999999999716,
          0.4399999999999977,
          0.6399999999999864,
          0.4300000000000068,
          1.6500000000000057,
          0.21999999999999886,
          1.710099999999997,
          1.6299999999999955,
          0.3100000000000023,
          0.6899999999999977,
          0.5300000000000011,
          0.5100000000000051,
          0.20000000000000284,
          0.25,
          0.14000000000000057,
          0.9699999999999989,
          0.4299999999999926,
          0.6101000000000028,
          2.950000000000003,
          0.1599999999999966,
          0.3598999999999961,
          1.3299999999999983,
          0.28999999999999204,
          0.6710000000000065,
          0.09350000000000591,
          0.3199999999999932,
          0.020000000000010232,
          0.030000000000001137,
          0.21999999999999886,
          0.3400000000000034,
          0.2049999999999983,
          0.13290000000000646,
          0.05999999999998806,
          0.2599999999999909,
          0.03999999999999204,
          0.6899999999999977,
          1.1899999999999977,
          0.20000000000000284,
          0.6000000000000085,
          0.25,
          0.4099999999999966,
          0.07000000000000739,
          3.174999999999997,
          0.519999999999996,
          0.22920000000000584,
          0.1700000000000017,
          0.6500000000000057,
          0.21999999999999886,
          0.3100000000000023,
          0.13000000000000966,
          0.37000000000000455,
          0.6499999999999915,
          0.3199999999999932,
          0.36999999999999034,
          0.23999999999999488,
          0.2600000000000051,
          0.060000000000002274,
          0.09000000000000341,
          0.20000000000000284,
          0.20000000000000284,
          0.01999999999999602,
          0.18999999999999773,
          8.5,
          0.45000000000001705,
          0.5500000000000114,
          0.4399999999999977,
          0.060000000000002274,
          1.3300000000000125,
          0.28999999999999204,
          2.5,
          0.13999999999998636,
          0.6899999999999977,
          0.3400000000000034,
          0.12000000000000455,
          0.03999999999999204,
          0.29999999999998295,
          0.28999999999999204,
          0.37000000000000455,
          0.3599999999999852,
          0.09000000000000341,
          3.0400000000000205,
          0.4000000000000057,
          0.3299999999999841,
          0.020000000000010232,
          1.4699999999999989,
          1.0800000000000125,
          1.4300000000000068,
          4.140000000000015,
          2.8599999999999994,
          1.8100000000000023,
          4.519999999999996,
          0.060000000000002274,
          1.1800000000000068,
          0.6299999999999955,
          0.4899999999999949,
          0.6400000000000006,
          1.019999999999996,
          5.090000000000003,
          1.8600000000000136,
          2.930000000000007,
          0.2400000000000091,
          0.6200000000000045,
          4.930000000000007,
          0.21999999999999886,
          1.2343000000000046,
          1.1800000000000068,
          1.960000000000008,
          1.5,
          10.025000000000006,
          0.37999999999999545,
          0.050399999999996226,
          0.09899999999998954,
          0.3100000000000023,
          9.990000000000009,
          0.3400000000000034,
          0.8500000000000227,
          0.4701000000000022,
          2.710000000000008,
          1.0712999999999795,
          0.9800000000000182,
          3.219999999999999,
          1.7800000000000011,
          0.8859999999999957,
          0.04999999999998295,
          0.28999999999999204,
          0.3300000000000125,
          0.18000000000000682,
          2.440100000000001,
          1.1599999999999966,
          0.28999999999999204,
          0.700099999999992,
          1.6200000000000045,
          0.30000000000001137,
          0.7599999999999909,
          1.910000000000025,
          2.549999999999983,
          5.280000000000001,
          0.3620999999999981,
          3.755000000000024,
          0.18999999999999773,
          0.37999999999999545,
          1.3326000000000136,
          0.12999999999999545,
          0.3100000000000023,
          0.1529999999999916,
          0.4000000000000057,
          1.1299999999999955,
          1.769999999999996,
          0.75,
          0.011499999999998067,
          0.0613000000000028,
          0.6599999999999966,
          0.10380000000000678,
          0.20000000000000284,
          0.6899999999999977,
          4.660899999999998,
          0.3199999999999932,
          1.2700000000000102,
          0.20000000000000284,
          1.4500000000000028,
          1.1299999999999955,
          0.8399999999999892,
          0.45009999999999195,
          1.0700999999999965,
          1.0849999999999937,
          6.950000000000003,
          0.5999999999999943,
          1.4500000000000028,
          3.1599999999999966,
          0.7099999999999937,
          1.0204999999999984,
          0.18999999999999773,
          0.0688999999999993,
          0.14999999999999147,
          0.01999999999999602,
          0.25,
          0.7600000000000051,
          1.0999999999999943,
          0.8438999999999908,
          4.930000000000007,
          0.31500000000001194,
          0.5449999999999875,
          0.2150000000000034,
          0.0799999999999983,
          0.06999999999999318,
          0.4200000000000017,
          0.2400999999999982,
          0.29999999999999716,
          0.12999999999999545,
          1.4099999999999966,
          0.18999999999999773,
          0.0899999999999892,
          1.198299999999989,
          0.3399999999999892,
          0.031999999999996476,
          0.12999999999999545,
          0.08500000000000796,
          0.25
         ]
        }
       ],
       "layout": {
        "template": {
         "data": {
          "bar": [
           {
            "error_x": {
             "color": "#2a3f5f"
            },
            "error_y": {
             "color": "#2a3f5f"
            },
            "marker": {
             "line": {
              "color": "#E5ECF6",
              "width": 0.5
             },
             "pattern": {
              "fillmode": "overlay",
              "size": 10,
              "solidity": 0.2
             }
            },
            "type": "bar"
           }
          ],
          "barpolar": [
           {
            "marker": {
             "line": {
              "color": "#E5ECF6",
              "width": 0.5
             },
             "pattern": {
              "fillmode": "overlay",
              "size": 10,
              "solidity": 0.2
             }
            },
            "type": "barpolar"
           }
          ],
          "carpet": [
           {
            "aaxis": {
             "endlinecolor": "#2a3f5f",
             "gridcolor": "white",
             "linecolor": "white",
             "minorgridcolor": "white",
             "startlinecolor": "#2a3f5f"
            },
            "baxis": {
             "endlinecolor": "#2a3f5f",
             "gridcolor": "white",
             "linecolor": "white",
             "minorgridcolor": "white",
             "startlinecolor": "#2a3f5f"
            },
            "type": "carpet"
           }
          ],
          "choropleth": [
           {
            "colorbar": {
             "outlinewidth": 0,
             "ticks": ""
            },
            "type": "choropleth"
           }
          ],
          "contour": [
           {
            "colorbar": {
             "outlinewidth": 0,
             "ticks": ""
            },
            "colorscale": [
             [
              0,
              "#0d0887"
             ],
             [
              0.1111111111111111,
              "#46039f"
             ],
             [
              0.2222222222222222,
              "#7201a8"
             ],
             [
              0.3333333333333333,
              "#9c179e"
             ],
             [
              0.4444444444444444,
              "#bd3786"
             ],
             [
              0.5555555555555556,
              "#d8576b"
             ],
             [
              0.6666666666666666,
              "#ed7953"
             ],
             [
              0.7777777777777778,
              "#fb9f3a"
             ],
             [
              0.8888888888888888,
              "#fdca26"
             ],
             [
              1,
              "#f0f921"
             ]
            ],
            "type": "contour"
           }
          ],
          "contourcarpet": [
           {
            "colorbar": {
             "outlinewidth": 0,
             "ticks": ""
            },
            "type": "contourcarpet"
           }
          ],
          "heatmap": [
           {
            "colorbar": {
             "outlinewidth": 0,
             "ticks": ""
            },
            "colorscale": [
             [
              0,
              "#0d0887"
             ],
             [
              0.1111111111111111,
              "#46039f"
             ],
             [
              0.2222222222222222,
              "#7201a8"
             ],
             [
              0.3333333333333333,
              "#9c179e"
             ],
             [
              0.4444444444444444,
              "#bd3786"
             ],
             [
              0.5555555555555556,
              "#d8576b"
             ],
             [
              0.6666666666666666,
              "#ed7953"
             ],
             [
              0.7777777777777778,
              "#fb9f3a"
             ],
             [
              0.8888888888888888,
              "#fdca26"
             ],
             [
              1,
              "#f0f921"
             ]
            ],
            "type": "heatmap"
           }
          ],
          "heatmapgl": [
           {
            "colorbar": {
             "outlinewidth": 0,
             "ticks": ""
            },
            "colorscale": [
             [
              0,
              "#0d0887"
             ],
             [
              0.1111111111111111,
              "#46039f"
             ],
             [
              0.2222222222222222,
              "#7201a8"
             ],
             [
              0.3333333333333333,
              "#9c179e"
             ],
             [
              0.4444444444444444,
              "#bd3786"
             ],
             [
              0.5555555555555556,
              "#d8576b"
             ],
             [
              0.6666666666666666,
              "#ed7953"
             ],
             [
              0.7777777777777778,
              "#fb9f3a"
             ],
             [
              0.8888888888888888,
              "#fdca26"
             ],
             [
              1,
              "#f0f921"
             ]
            ],
            "type": "heatmapgl"
           }
          ],
          "histogram": [
           {
            "marker": {
             "pattern": {
              "fillmode": "overlay",
              "size": 10,
              "solidity": 0.2
             }
            },
            "type": "histogram"
           }
          ],
          "histogram2d": [
           {
            "colorbar": {
             "outlinewidth": 0,
             "ticks": ""
            },
            "colorscale": [
             [
              0,
              "#0d0887"
             ],
             [
              0.1111111111111111,
              "#46039f"
             ],
             [
              0.2222222222222222,
              "#7201a8"
             ],
             [
              0.3333333333333333,
              "#9c179e"
             ],
             [
              0.4444444444444444,
              "#bd3786"
             ],
             [
              0.5555555555555556,
              "#d8576b"
             ],
             [
              0.6666666666666666,
              "#ed7953"
             ],
             [
              0.7777777777777778,
              "#fb9f3a"
             ],
             [
              0.8888888888888888,
              "#fdca26"
             ],
             [
              1,
              "#f0f921"
             ]
            ],
            "type": "histogram2d"
           }
          ],
          "histogram2dcontour": [
           {
            "colorbar": {
             "outlinewidth": 0,
             "ticks": ""
            },
            "colorscale": [
             [
              0,
              "#0d0887"
             ],
             [
              0.1111111111111111,
              "#46039f"
             ],
             [
              0.2222222222222222,
              "#7201a8"
             ],
             [
              0.3333333333333333,
              "#9c179e"
             ],
             [
              0.4444444444444444,
              "#bd3786"
             ],
             [
              0.5555555555555556,
              "#d8576b"
             ],
             [
              0.6666666666666666,
              "#ed7953"
             ],
             [
              0.7777777777777778,
              "#fb9f3a"
             ],
             [
              0.8888888888888888,
              "#fdca26"
             ],
             [
              1,
              "#f0f921"
             ]
            ],
            "type": "histogram2dcontour"
           }
          ],
          "mesh3d": [
           {
            "colorbar": {
             "outlinewidth": 0,
             "ticks": ""
            },
            "type": "mesh3d"
           }
          ],
          "parcoords": [
           {
            "line": {
             "colorbar": {
              "outlinewidth": 0,
              "ticks": ""
             }
            },
            "type": "parcoords"
           }
          ],
          "pie": [
           {
            "automargin": true,
            "type": "pie"
           }
          ],
          "scatter": [
           {
            "fillpattern": {
             "fillmode": "overlay",
             "size": 10,
             "solidity": 0.2
            },
            "type": "scatter"
           }
          ],
          "scatter3d": [
           {
            "line": {
             "colorbar": {
              "outlinewidth": 0,
              "ticks": ""
             }
            },
            "marker": {
             "colorbar": {
              "outlinewidth": 0,
              "ticks": ""
             }
            },
            "type": "scatter3d"
           }
          ],
          "scattercarpet": [
           {
            "marker": {
             "colorbar": {
              "outlinewidth": 0,
              "ticks": ""
             }
            },
            "type": "scattercarpet"
           }
          ],
          "scattergeo": [
           {
            "marker": {
             "colorbar": {
              "outlinewidth": 0,
              "ticks": ""
             }
            },
            "type": "scattergeo"
           }
          ],
          "scattergl": [
           {
            "marker": {
             "colorbar": {
              "outlinewidth": 0,
              "ticks": ""
             }
            },
            "type": "scattergl"
           }
          ],
          "scattermapbox": [
           {
            "marker": {
             "colorbar": {
              "outlinewidth": 0,
              "ticks": ""
             }
            },
            "type": "scattermapbox"
           }
          ],
          "scatterpolar": [
           {
            "marker": {
             "colorbar": {
              "outlinewidth": 0,
              "ticks": ""
             }
            },
            "type": "scatterpolar"
           }
          ],
          "scatterpolargl": [
           {
            "marker": {
             "colorbar": {
              "outlinewidth": 0,
              "ticks": ""
             }
            },
            "type": "scatterpolargl"
           }
          ],
          "scatterternary": [
           {
            "marker": {
             "colorbar": {
              "outlinewidth": 0,
              "ticks": ""
             }
            },
            "type": "scatterternary"
           }
          ],
          "surface": [
           {
            "colorbar": {
             "outlinewidth": 0,
             "ticks": ""
            },
            "colorscale": [
             [
              0,
              "#0d0887"
             ],
             [
              0.1111111111111111,
              "#46039f"
             ],
             [
              0.2222222222222222,
              "#7201a8"
             ],
             [
              0.3333333333333333,
              "#9c179e"
             ],
             [
              0.4444444444444444,
              "#bd3786"
             ],
             [
              0.5555555555555556,
              "#d8576b"
             ],
             [
              0.6666666666666666,
              "#ed7953"
             ],
             [
              0.7777777777777778,
              "#fb9f3a"
             ],
             [
              0.8888888888888888,
              "#fdca26"
             ],
             [
              1,
              "#f0f921"
             ]
            ],
            "type": "surface"
           }
          ],
          "table": [
           {
            "cells": {
             "fill": {
              "color": "#EBF0F8"
             },
             "line": {
              "color": "white"
             }
            },
            "header": {
             "fill": {
              "color": "#C8D4E3"
             },
             "line": {
              "color": "white"
             }
            },
            "type": "table"
           }
          ]
         },
         "layout": {
          "annotationdefaults": {
           "arrowcolor": "#2a3f5f",
           "arrowhead": 0,
           "arrowwidth": 1
          },
          "autotypenumbers": "strict",
          "coloraxis": {
           "colorbar": {
            "outlinewidth": 0,
            "ticks": ""
           }
          },
          "colorscale": {
           "diverging": [
            [
             0,
             "#8e0152"
            ],
            [
             0.1,
             "#c51b7d"
            ],
            [
             0.2,
             "#de77ae"
            ],
            [
             0.3,
             "#f1b6da"
            ],
            [
             0.4,
             "#fde0ef"
            ],
            [
             0.5,
             "#f7f7f7"
            ],
            [
             0.6,
             "#e6f5d0"
            ],
            [
             0.7,
             "#b8e186"
            ],
            [
             0.8,
             "#7fbc41"
            ],
            [
             0.9,
             "#4d9221"
            ],
            [
             1,
             "#276419"
            ]
           ],
           "sequential": [
            [
             0,
             "#0d0887"
            ],
            [
             0.1111111111111111,
             "#46039f"
            ],
            [
             0.2222222222222222,
             "#7201a8"
            ],
            [
             0.3333333333333333,
             "#9c179e"
            ],
            [
             0.4444444444444444,
             "#bd3786"
            ],
            [
             0.5555555555555556,
             "#d8576b"
            ],
            [
             0.6666666666666666,
             "#ed7953"
            ],
            [
             0.7777777777777778,
             "#fb9f3a"
            ],
            [
             0.8888888888888888,
             "#fdca26"
            ],
            [
             1,
             "#f0f921"
            ]
           ],
           "sequentialminus": [
            [
             0,
             "#0d0887"
            ],
            [
             0.1111111111111111,
             "#46039f"
            ],
            [
             0.2222222222222222,
             "#7201a8"
            ],
            [
             0.3333333333333333,
             "#9c179e"
            ],
            [
             0.4444444444444444,
             "#bd3786"
            ],
            [
             0.5555555555555556,
             "#d8576b"
            ],
            [
             0.6666666666666666,
             "#ed7953"
            ],
            [
             0.7777777777777778,
             "#fb9f3a"
            ],
            [
             0.8888888888888888,
             "#fdca26"
            ],
            [
             1,
             "#f0f921"
            ]
           ]
          },
          "colorway": [
           "#636efa",
           "#EF553B",
           "#00cc96",
           "#ab63fa",
           "#FFA15A",
           "#19d3f3",
           "#FF6692",
           "#B6E880",
           "#FF97FF",
           "#FECB52"
          ],
          "font": {
           "color": "#2a3f5f"
          },
          "geo": {
           "bgcolor": "white",
           "lakecolor": "white",
           "landcolor": "#E5ECF6",
           "showlakes": true,
           "showland": true,
           "subunitcolor": "white"
          },
          "hoverlabel": {
           "align": "left"
          },
          "hovermode": "closest",
          "mapbox": {
           "style": "light"
          },
          "paper_bgcolor": "white",
          "plot_bgcolor": "#E5ECF6",
          "polar": {
           "angularaxis": {
            "gridcolor": "white",
            "linecolor": "white",
            "ticks": ""
           },
           "bgcolor": "#E5ECF6",
           "radialaxis": {
            "gridcolor": "white",
            "linecolor": "white",
            "ticks": ""
           }
          },
          "scene": {
           "xaxis": {
            "backgroundcolor": "#E5ECF6",
            "gridcolor": "white",
            "gridwidth": 2,
            "linecolor": "white",
            "showbackground": true,
            "ticks": "",
            "zerolinecolor": "white"
           },
           "yaxis": {
            "backgroundcolor": "#E5ECF6",
            "gridcolor": "white",
            "gridwidth": 2,
            "linecolor": "white",
            "showbackground": true,
            "ticks": "",
            "zerolinecolor": "white"
           },
           "zaxis": {
            "backgroundcolor": "#E5ECF6",
            "gridcolor": "white",
            "gridwidth": 2,
            "linecolor": "white",
            "showbackground": true,
            "ticks": "",
            "zerolinecolor": "white"
           }
          },
          "shapedefaults": {
           "line": {
            "color": "#2a3f5f"
           }
          },
          "ternary": {
           "aaxis": {
            "gridcolor": "white",
            "linecolor": "white",
            "ticks": ""
           },
           "baxis": {
            "gridcolor": "white",
            "linecolor": "white",
            "ticks": ""
           },
           "bgcolor": "#E5ECF6",
           "caxis": {
            "gridcolor": "white",
            "linecolor": "white",
            "ticks": ""
           }
          },
          "title": {
           "x": 0.05
          },
          "xaxis": {
           "automargin": true,
           "gridcolor": "white",
           "linecolor": "white",
           "ticks": "",
           "title": {
            "standoff": 15
           },
           "zerolinecolor": "white",
           "zerolinewidth": 2
          },
          "yaxis": {
           "automargin": true,
           "gridcolor": "white",
           "linecolor": "white",
           "ticks": "",
           "title": {
            "standoff": 15
           },
           "zerolinecolor": "white",
           "zerolinewidth": 2
          }
         }
        },
        "title": {
         "text": "Scatter Plot of gap_size vs. duration DIS"
        },
        "xaxis": {
         "title": {
          "text": "Duration"
         }
        },
        "yaxis": {
         "title": {
          "text": "Gap Size"
         }
        }
       }
      }
     },
     "metadata": {},
     "output_type": "display_data"
    }
   ],
   "source": [
    "fig = go.Figure(data=go.Scatter(x=closed_gaps['duration'], y=closed_gaps['gap_size'], mode='markers'))\n",
    "\n",
    "# Update layout\n",
    "fig.update_layout(title=f'Scatter Plot of gap_size vs. duration {symbol}',\n",
    "                  xaxis_title='Duration',\n",
    "                  yaxis_title='Gap Size')\n",
    "\n",
    "# Show the plot\n",
    "fig.show()"
   ]
  },
  {
   "cell_type": "markdown",
   "metadata": {},
   "source": [
    "### Gap statistics"
   ]
  },
  {
   "cell_type": "code",
   "execution_count": 128,
   "metadata": {},
   "outputs": [
    {
     "name": "stdout",
     "output_type": "stream",
     "text": [
      "Ticker:  DIS\n",
      "total number of gaps: 1736\n",
      "total number same day closes: 1284\n",
      "total number true gaps: 452\n",
      "true gaps closed: 427\n",
      "total number current open gaps: 25\n",
      "\n",
      "same day closes % : 0.7396313364055299\n",
      "true_gaps % : 0.26036866359447003\n",
      "\n",
      "same day closes mean gap size: 0.29\n",
      "largest same day gap close: 5.5\n",
      "\n",
      "true gaps mean gap size: 0.67\n",
      "true gaps max gap size: 10.03\n",
      "\n",
      "latest stock price 113.66\n",
      "nearest gap:  127.79\n",
      "nearest gap date:  2022-04-20\n"
     ]
    }
   ],
   "source": [
    "total = len(same_day_closes) + len(all_gaps)\n",
    "print(\"Ticker: \",symbol)\n",
    "print(\"total number of gaps:\", total)\n",
    "print(\"total number same day closes:\", len(same_day_closes))\n",
    "print(\"total number true gaps:\", len(all_gaps))\n",
    "print(\"true gaps closed:\", len(closed_gaps))\n",
    "print(\"total number current open gaps:\", len(open_gaps))\n",
    "# print(\"gaps closed in current timeframe:\", 1-(round(len(open_gaps) / total, 2)))\n",
    "print(\"\")\n",
    "print(\"same day closes % :\",len(same_day_closes)/total)\n",
    "print(\"true_gaps % :\",len(all_gaps)/total)\n",
    "print(\"\")\n",
    "print(\"same day closes mean gap size:\", round(same_day_closes.gap_size.mean(), 2))\n",
    "\n",
    "print(\"largest same day gap close:\", round(same_day_closes.gap_size.max(), 2))\n",
    "print(\"\")\n",
    "print(\"true gaps mean gap size:\", round(all_gaps.gap_size.mean(), 2))\n",
    "print(\"true gaps max gap size:\", round(all_gaps.gap_size.max(), 2))\n",
    "\n",
    "\n",
    "# find the row index of the value in df that is closest to your variable\n",
    "idx = (open_gaps['from'] - curr_close).abs().idxmin()\n",
    "print(\"\")\n",
    "# extract the corresponding value from df\n",
    "print('latest stock price', df['close'].iloc[-1])\n",
    "nearest_gap = open_gaps['from'].iloc[idx]\n",
    "nearest_gap_date = open_gaps['date'].iloc[idx]\n",
    "\n",
    "# print the result\n",
    "print(\"nearest gap: \",nearest_gap)\n",
    "print(\"nearest gap date: \",nearest_gap_date.strftime('%Y-%m-%d'))"
   ]
  },
  {
   "cell_type": "code",
   "execution_count": 118,
   "metadata": {},
   "outputs": [
    {
     "data": {
      "image/png": "[encoded data removed]",
      "text/plain": [
       "<Figure size 640x480 with 1 Axes>"
      ]
     },
     "metadata": {},
     "output_type": "display_data"
    }
   ],
   "source": [
    "# Create countplot\n",
    "sns.countplot(x='duration', data=closed_gaps)\n",
    "\n",
    "# Rotate x-axis labels for better readability\n",
    "plt.xticks(rotation=45)\n",
    "plt.title(\"count of true gaps closed and duration in days\")\n",
    "# Show plot\n",
    "plt.show()"
   ]
  },
  {
   "cell_type": "code",
   "execution_count": 129,
   "metadata": {},
   "outputs": [],
   "source": [
    "all_gaps.to_csv('dis_gaps_alpha.csv', index=False)"
   ]
  }
 ],
 "metadata": {
  "kernelspec": {
   "display_name": "basic-mixed",
   "language": "python",
   "name": "python3"
  },
  "language_info": {
   "codemirror_mode": {
    "name": "ipython",
    "version": 3
   },
   "file_extension": ".py",
   "mimetype": "text/x-python",
   "name": "python",
   "nbconvert_exporter": "python",
   "pygments_lexer": "ipython3",
   "version": "3.11.8"
  }
 },
 "nbformat": 4,
 "nbformat_minor": 2
}
